{
 "cells": [
  {
   "cell_type": "code",
   "execution_count": 1,
   "metadata": {},
   "outputs": [
    {
     "name": "stdout",
     "output_type": "stream",
     "text": [
      "\u001b[31mtensorflow 1.7.1 has requirement numpy>=1.13.3, but you'll have numpy 1.12.1 which is incompatible.\u001b[0m\r\n",
      "\u001b[31mipython 6.5.0 has requirement prompt-toolkit<2.0.0,>=1.0.15, but you'll have prompt-toolkit 3.0.8 which is incompatible.\u001b[0m\r\n"
     ]
    }
   ],
   "source": [
    "!pip -q install ./python"
   ]
  },
  {
   "cell_type": "markdown",
   "metadata": {},
   "source": [
    "# Collaboration and Competition\n",
    "\n",
    "---\n",
    "\n",
    "You are welcome to use this coding environment to train your agent for the project.  Follow the instructions below to get started!\n",
    "\n",
    "### 1. Start the Environment\n",
    "\n",
    "Run the next code cell to install a few packages.  This line will take a few minutes to run!"
   ]
  },
  {
   "cell_type": "code",
   "execution_count": 2,
   "metadata": {},
   "outputs": [],
   "source": [
    "from unityagents import UnityEnvironment\n",
    "import numpy as np\n",
    "import random\n",
    "import torch\n",
    "import numpy as np\n",
    "from collections import deque\n",
    "import matplotlib.pyplot as plt\n",
    "%matplotlib inline"
   ]
  },
  {
   "cell_type": "code",
   "execution_count": 3,
   "metadata": {},
   "outputs": [
    {
     "name": "stderr",
     "output_type": "stream",
     "text": [
      "INFO:unityagents:\n",
      "'Academy' started successfully!\n",
      "Unity Academy name: Academy\n",
      "        Number of Brains: 1\n",
      "        Number of External Brains : 1\n",
      "        Lesson number : 0\n",
      "        Reset Parameters :\n",
      "\t\t\n",
      "Unity brain name: TennisBrain\n",
      "        Number of Visual Observations (per agent): 0\n",
      "        Vector Observation space type: continuous\n",
      "        Vector Observation space size (per agent): 8\n",
      "        Number of stacked Vector Observation: 3\n",
      "        Vector Action space type: continuous\n",
      "        Vector Action space size (per agent): 2\n",
      "        Vector Action descriptions: , \n"
     ]
    }
   ],
   "source": [
    "env = UnityEnvironment(file_name=\"/data/Tennis_Linux_NoVis/Tennis\")"
   ]
  },
  {
   "cell_type": "markdown",
   "metadata": {},
   "source": [
    "Environments contain brains which are responsible for deciding the actions of their associated agents. Here we check for the first brain available, and set it as the default brain we will be controlling from Python."
   ]
  },
  {
   "cell_type": "code",
   "execution_count": 4,
   "metadata": {},
   "outputs": [],
   "source": [
    "# get the default brain\n",
    "brain_name = env.brain_names[0]\n",
    "brain = env.brains[brain_name]"
   ]
  },
  {
   "cell_type": "markdown",
   "metadata": {},
   "source": [
    "### 2. Examine the State, Action Spaces Instantiate the Enviroment and Agent\n",
    "\n",
    "Run the code cell below to print some information about the environment."
   ]
  },
  {
   "cell_type": "code",
   "execution_count": 5,
   "metadata": {},
   "outputs": [
    {
     "name": "stdout",
     "output_type": "stream",
     "text": [
      "Number of agents: 2\n",
      "Size of each action: 2\n",
      "There are 2 agents. Each observes a state with length: 24\n",
      "The state for the first agent looks like: [ 0.          0.          0.          0.          0.          0.          0.\n",
      "  0.          0.          0.          0.          0.          0.          0.\n",
      "  0.          0.         -6.65278625 -1.5        -0.          0.\n",
      "  6.83172083  6.         -0.          0.        ]\n"
     ]
    }
   ],
   "source": [
    "from MADDPG import MultiAgent\n",
    "\n",
    "\n",
    "# reset the environment\n",
    "env_info = env.reset(train_mode=True)[brain_name]\n",
    "\n",
    "# number of agents \n",
    "num_agents = len(env_info.agents)\n",
    "print('Number of agents:', num_agents)\n",
    "\n",
    "# size of each action\n",
    "action_size = brain.vector_action_space_size\n",
    "print('Size of each action:', action_size)\n",
    "\n",
    "# examine the state space \n",
    "states = env_info.vector_observations\n",
    "state_size = states.shape[1]\n",
    "print('There are {} agents. Each observes a state with length: {}'.format(states.shape[0], state_size))\n",
    "print('The state for the first agent looks like:', states[0])\n",
    "\n",
    "agents = MultiAgent(state_size=state_size, action_size=action_size, num_agents=num_agents)"
   ]
  },
  {
   "cell_type": "markdown",
   "metadata": {},
   "source": [
    "### 4. It's Your Turn!\n",
    "\n",
    "Now it's your turn to train your own agent to solve the environment!  A few **important notes**:\n",
    "- When training the environment, set `train_mode=True`, so that the line for resetting the environment looks like the following:\n",
    "```python\n",
    "env_info = env.reset(train_mode=True)[brain_name]\n",
    "```\n",
    "- To structure your work, you're welcome to work directly in this Jupyter notebook, or you might like to start over with a new file!  You can see the list of files in the workspace by clicking on **_Jupyter_** in the top left corner of the notebook.\n",
    "- In this coding environment, you will not be able to watch the agents while they are training.  However, **_after training the agents_**, you can download the saved model weights to watch the agents on your own machine!"
   ]
  },
  {
   "cell_type": "code",
   "execution_count": 6,
   "metadata": {},
   "outputs": [
    {
     "name": "stdout",
     "output_type": "stream",
     "text": [
      "Episode 100\tAverage Score: 0.00\tScore: 0.00\n",
      "Episode 200\tAverage Score: 0.00\tScore: 0.00\n",
      "Episode 300\tAverage Score: 0.01\tScore: 0.09\n",
      "Episode 400\tAverage Score: 0.01\tScore: 0.00\n",
      "Episode 500\tAverage Score: 0.01\tScore: 0.00\n",
      "Episode 600\tAverage Score: 0.01\tScore: 0.00\n",
      "Episode 700\tAverage Score: 0.01\tScore: 0.00\n",
      "Episode 800\tAverage Score: 0.01\tScore: 0.00\n",
      "Episode 900\tAverage Score: 0.03\tScore: 0.10\n",
      "Episode 1000\tAverage Score: 0.07\tScore: 0.10\n",
      "Episode 1100\tAverage Score: 0.13\tScore: 0.10\n",
      "Episode 1200\tAverage Score: 0.11\tScore: 0.30\n",
      "Episode 1300\tAverage Score: 0.32\tScore: 0.90\n",
      "Episode 1400\tAverage Score: 0.31\tScore: 0.00\n",
      "Episode 1500\tAverage Score: 0.42\tScore: 0.00\n",
      "Episode 1600\tAverage Score: 0.44\tScore: 0.09\n",
      "Episode 1617\tAverage Score: 0.50\tScore: 1.80\n",
      "\n",
      "Environment solved in 1617 episodes!\tAverage Score: 0.50\n",
      "\n",
      "Saving Model. Continue training to achieve higher score\n",
      "Episode 1700\tAverage Score: 0.43\tScore: 0.30\n",
      "Episode 1800\tAverage Score: 0.44\tScore: 0.00\n",
      "Episode 1900\tAverage Score: 0.59\tScore: 0.39\n",
      "Episode 1904\tAverage Score: 0.60\tScore: 2.29\n",
      "\n",
      "Saving Model. Continue training to achieve higher score\n",
      "Episode 1946\tAverage Score: 0.71\tScore: 2.50\n",
      "\n",
      "Saving Model. Continue training to achieve higher score\n",
      "Episode 2000\tAverage Score: 0.78\tScore: 2.60\n",
      "Episode 2039\tAverage Score: 0.81\tScore: 1.80\n",
      "\n",
      "Saving Model. Continue training to achieve higher score\n",
      "Episode 2100\tAverage Score: 0.75\tScore: 0.70\n",
      "Episode 2200\tAverage Score: 0.67\tScore: 0.60\n",
      "Episode 2300\tAverage Score: 0.69\tScore: 0.00\n",
      "Episode 2400\tAverage Score: 0.51\tScore: 0.30\n",
      "Episode 2500\tAverage Score: 0.33\tScore: 1.80\n",
      "Episode 2600\tAverage Score: 0.38\tScore: 0.10\n",
      "Episode 2700\tAverage Score: 0.39\tScore: 0.10\n",
      "Episode 2800\tAverage Score: 0.32\tScore: 0.09\n",
      "Episode 2900\tAverage Score: 0.32\tScore: 0.29\n",
      "Episode 3000\tAverage Score: 0.52\tScore: 0.00\n",
      "Episode 3100\tAverage Score: 0.37\tScore: 0.00\n",
      "Episode 3200\tAverage Score: 0.47\tScore: 0.20\n",
      "Episode 3300\tAverage Score: 0.45\tScore: 0.30\n",
      "Episode 3400\tAverage Score: 0.52\tScore: 0.20\n",
      "Episode 3500\tAverage Score: 0.48\tScore: 0.00\n",
      "Episode 3600\tAverage Score: 0.48\tScore: 1.20\n",
      "Episode 3700\tAverage Score: 0.57\tScore: 0.49\n",
      "Episode 3800\tAverage Score: 0.74\tScore: 0.30\n",
      "Episode 3900\tAverage Score: 0.61\tScore: 0.19\n",
      "Episode 4000\tAverage Score: 0.63\tScore: 0.50\n",
      "Episode 4100\tAverage Score: 0.68\tScore: 0.70\n",
      "Episode 4200\tAverage Score: 0.66\tScore: 1.00\n",
      "Episode 4300\tAverage Score: 0.69\tScore: 0.80\n",
      "Episode 4400\tAverage Score: 0.53\tScore: 1.50\n",
      "Episode 4500\tAverage Score: 0.52\tScore: 1.29\n",
      "Episode 4600\tAverage Score: 0.64\tScore: 0.19\n",
      "Episode 4700\tAverage Score: 0.62\tScore: 0.10\n",
      "Episode 4800\tAverage Score: 0.60\tScore: 0.30\n",
      "Episode 4900\tAverage Score: 0.47\tScore: 0.40\n",
      "Episode 5000\tAverage Score: 0.53\tScore: 0.50\n"
     ]
    },
    {
     "data": {
      "image/png": "[encoded data removed]",
      "text/plain": [
       "<matplotlib.figure.Figure at 0x7fd4c806c5f8>"
      ]
     },
     "metadata": {
      "needs_background": "light"
     },
     "output_type": "display_data"
    }
   ],
   "source": [
    "def Maddpg(n_episodes=5000):\n",
    "    score_solved = 0.5\n",
    "    scores_deque = deque(maxlen=100)\n",
    "    scores = []\n",
    "    moving_average = []\n",
    "    starting_random = n_episodes / 1   # 10% of total episodes used for random episode and random sampling\n",
    "    for i_episode in range(1, n_episodes +1):\n",
    "        env_info = env.reset(train_mode=True)[brain_name]     # reset the environment    \n",
    "        states = env_info.vector_observations   \n",
    "        agents.reset()\n",
    "        score = np.zeros(num_agents)\n",
    "        while True:\n",
    "            '''\n",
    "            if i_episode < starting_random:\n",
    "                actions = np.random.randn(num_agents, action_size) # select an action (for each agent)\n",
    "                actions = np.clip(actions, -1, 1)                  # all actions between -1 and 1\n",
    "            else:\n",
    "                actions = agents.act(states)\n",
    "            '''\n",
    "            actions = agents.act(states)\n",
    "            env_info = env.step(actions)[brain_name]           # send all actions to tne environment\n",
    "            next_states = env_info.vector_observations         # get next state (for each agent)\n",
    "            rewards = env_info.rewards                         # get reward (for each agent)\n",
    "            dones = env_info.local_done                        # see if episode finished\n",
    "            score += env_info.rewards                         # update the score (for each agent)\n",
    "\n",
    "            agents.step(states, actions, rewards, next_states, dones)\n",
    "            \n",
    "            states = next_states\n",
    "             #needs to be checked in multi case\n",
    "            if np.any(dones):\n",
    "                break\n",
    "\n",
    "        max_score = np.max(score)\n",
    "        scores_deque.append(max_score)\n",
    "        scores.append(max_score)\n",
    "        average_score = np.mean(scores_deque)\n",
    "        moving_average.append(average_score)\n",
    "        print('\\rEpisode {}\\tAverage Score: {:.2f}\\tScore: {:.2f}'.format(i_episode, average_score, max_score), end=\"\")\n",
    "        if(i_episode % 100 == 0):\n",
    "            print('\\rEpisode {}\\tAverage Score: {:.2f}'.format(i_episode, average_score))\n",
    "        if average_score >= score_solved:\n",
    "            agents.save_model()\n",
    "            print('\\rEpisode {}\\tAverage Score: {:.2f}'.format(i_episode, np.mean(scores_deque)))\n",
    "            if(score_solved <= 0.5):\n",
    "                print('\\nEnvironment solved in {:d} episodes!\\tAverage Score: {:.2f}'.format(i_episode, average_score))\n",
    "            print('\\nSaving Model. Continue training to achieve higher score')\n",
    "            score_solved += 0.1;\n",
    "    return scores, moving_average\n",
    "\n",
    "scores, m_avg = Maddpg()\n",
    " \n",
    "fig = plt.figure(dpi=125)\n",
    "ax = fig.add_subplot(111)\n",
    "plt.plot(np.arange(1, len(scores)+1), scores, label = 'Scores')\n",
    "plt.plot(np.arange(1, len(m_avg)+1), m_avg, c = 'r', label = 'Moving average')\n",
    "plt.ylabel('Score')\n",
    "plt.xlabel('Episode #')\n",
    "plt.legend(loc = 'upper left')\n",
    "plt.grid()\n",
    "plt.show()"
   ]
  },
  {
   "cell_type": "markdown",
   "metadata": {},
   "source": [
    "When finished, you can close the environment."
   ]
  },
  {
   "cell_type": "code",
   "execution_count": null,
   "metadata": {},
   "outputs": [],
   "source": [
    "env.close()"
   ]
  },
  {
   "cell_type": "code",
   "execution_count": null,
   "metadata": {},
   "outputs": [],
   "source": [
    " "
   ]
  },
  {
   "cell_type": "code",
   "execution_count": null,
   "metadata": {},
   "outputs": [],
   "source": []
  },
  {
   "cell_type": "code",
   "execution_count": null,
   "metadata": {},
   "outputs": [],
   "source": []
  }
 ],
 "metadata": {
  "kernelspec": {
   "display_name": "Python 3",
   "language": "python",
   "name": "python3"
  },
  "language_info": {
   "codemirror_mode": {
    "name": "ipython",
    "version": 3
   },
   "file_extension": ".py",
   "mimetype": "text/x-python",
   "name": "python",
   "nbconvert_exporter": "python",
   "pygments_lexer": "ipython3",
   "version": "3.6.12"
  }
 },
 "nbformat": 4,
 "nbformat_minor": 2
}
